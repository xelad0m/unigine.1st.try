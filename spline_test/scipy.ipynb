{
 "cells": [
  {
   "cell_type": "markdown",
   "metadata": {},
   "source": [
    "[Реализация](https://github.com/ttk592/spline) кубических сплайнов с настройкой граничных условий вида `not_a_knot` совпадает по результатам с реализацией `scipy.interpolate.interp1d(t, x, kind='cubic')`:\n",
    "- отклонение порядка среднеквадратичное `1e-10`, максимальное `1e-5`"
   ]
  },
  {
   "cell_type": "code",
   "execution_count": 13,
   "metadata": {},
   "outputs": [],
   "source": [
    "import numpy as np\n",
    "import json\n",
    "\n",
    "from scipy.interpolate import interp1d\n",
    "\n",
    "trajectory = json.load(open(\"trajectory.json\"))\n",
    "\n",
    "T = [p['t'] for p in trajectory]\n",
    "X = [p['xyz'][0] for p in trajectory]\n",
    "Y = [p['xyz'][1] for p in trajectory]\n",
    "Z = [p['xyz'][2] for p in trajectory]\n",
    "\n",
    "x = interp1d(T, X, kind='cubic')\n",
    "y = interp1d(T, Y, kind='cubic')\n",
    "z = interp1d(T, Z, kind='cubic')\n",
    "\n",
    "num_segments = 50\n",
    "\n",
    "t = np.linspace(0, 1, 50 * len(T))\n",
    "\n",
    "X_hat = x(t)\n",
    "Y_hat = y(t)\n",
    "Z_hat = z(t)\n",
    "\n",
    "trajectory_scipy = [{\"t\": F[0], \"xyz\": [F[1],F[2],F[3]]} for F in zip(t, X_hat, Y_hat, Z_hat)]\n",
    "\n",
    "json.dump(trajectory_scipy, open(\"trajectory_scipy.json\", \"w\"), indent=4)"
   ]
  },
  {
   "cell_type": "markdown",
   "metadata": {},
   "source": [
    "Аналогичная интерполяция `spline.h`"
   ]
  },
  {
   "cell_type": "code",
   "execution_count": 25,
   "metadata": {},
   "outputs": [],
   "source": [
    "spline = json.load(open(\"spline.json\"))\n",
    "\n",
    "Ts = [p['t'] for p in spline]\n",
    "Xs = [p['xyz'][0] for p in spline]\n",
    "Ys = [p['xyz'][1] for p in spline]\n",
    "Zs = [p['xyz'][2] for p in spline]"
   ]
  },
  {
   "cell_type": "code",
   "execution_count": 28,
   "metadata": {},
   "outputs": [],
   "source": [
    "dt = [d[0] - d[1] for d in zip(t, Ts)]\n",
    "dx = [d[0] - d[1] for d in zip(X_hat, Xs)]\n",
    "dy = [d[0] - d[1] for d in zip(Y_hat, Ys)]\n",
    "dz = [d[0] - d[1] for d in zip(Z_hat, Zs)]"
   ]
  },
  {
   "cell_type": "markdown",
   "metadata": {},
   "source": [
    "Отклонение\n",
    "- суммарное"
   ]
  },
  {
   "cell_type": "code",
   "execution_count": 36,
   "metadata": {},
   "outputs": [
    {
     "data": {
      "text/plain": [
       "0.0004774319781428874"
      ]
     },
     "execution_count": 36,
     "metadata": {},
     "output_type": "execute_result"
    }
   ],
   "source": [
    "sum(dx) + sum(dy) + sum(dz)"
   ]
  },
  {
   "cell_type": "markdown",
   "metadata": {},
   "source": [
    "- среднее"
   ]
  },
  {
   "cell_type": "code",
   "execution_count": 37,
   "metadata": {},
   "outputs": [
    {
     "data": {
      "text/plain": [
       "2.1219199028572773e-07"
      ]
     },
     "execution_count": 37,
     "metadata": {},
     "output_type": "execute_result"
    }
   ],
   "source": [
    "(sum(dx) + sum(dy) + sum(dz)) / (len(dx) + len(dy) + len(dz))"
   ]
  },
  {
   "cell_type": "markdown",
   "metadata": {},
   "source": [
    "- максимальное"
   ]
  },
  {
   "cell_type": "code",
   "execution_count": 39,
   "metadata": {},
   "outputs": [
    {
     "data": {
      "text/plain": [
       "4.9969773675329066e-05"
      ]
     },
     "execution_count": 39,
     "metadata": {},
     "output_type": "execute_result"
    }
   ],
   "source": [
    "max(map(abs, dx+dy+dz))"
   ]
  },
  {
   "cell_type": "markdown",
   "metadata": {},
   "source": [
    "- среднеквадратичное"
   ]
  },
  {
   "cell_type": "code",
   "execution_count": 46,
   "metadata": {},
   "outputs": [
    {
     "data": {
      "text/plain": [
       "4.808634924079471e-10"
      ]
     },
     "execution_count": 46,
     "metadata": {},
     "output_type": "execute_result"
    }
   ],
   "source": [
    "sum(list(map(lambda x: x**2, dx+dy+dz))) / len(dx+dy+dz)"
   ]
  }
 ],
 "metadata": {
  "kernelspec": {
   "display_name": "Python 3.10.8 ('py310')",
   "language": "python",
   "name": "python3"
  },
  "language_info": {
   "codemirror_mode": {
    "name": "ipython",
    "version": 3
   },
   "file_extension": ".py",
   "mimetype": "text/x-python",
   "name": "python",
   "nbconvert_exporter": "python",
   "pygments_lexer": "ipython3",
   "version": "3.10.8"
  },
  "orig_nbformat": 4,
  "vscode": {
   "interpreter": {
    "hash": "53d00ba0b92f737b23b3e678e3a3ceb3fe4e948ad1ab95d9c6fdcbb4b4ec65f3"
   }
  }
 },
 "nbformat": 4,
 "nbformat_minor": 2
}
