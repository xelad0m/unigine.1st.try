{
 "cells": [
  {
   "cell_type": "markdown",
   "metadata": {},
   "source": [
    "Реализация кубических сплайнов https://github.com/ttk592/spline с настройкой граничных условий вида `not_a_knot` полностью совпадает по результатам с реализацией `scipy.interpolate.interp1d(t, x, kind='cubic')`."
   ]
  },
  {
   "cell_type": "code",
   "execution_count": 15,
   "metadata": {},
   "outputs": [],
   "source": [
    "import numpy as np\n",
    "import json\n",
    "\n",
    "from scipy.interpolate import interp1d\n",
    "\n",
    "trajectory = json.load(open(\"trajectory.json\"))\n",
    "\n",
    "T = [p['t'] for p in trajectory]\n",
    "X = [p['xyz'][0] for p in trajectory]\n",
    "Y = [p['xyz'][1] for p in trajectory]\n",
    "Z = [p['xyz'][2] for p in trajectory]\n",
    "\n",
    "x = interp1d(T, X, kind='cubic')\n",
    "y = interp1d(T, Y, kind='cubic')\n",
    "z = interp1d(T, Z, kind='cubic')\n",
    "\n",
    "num_segments = 50\n",
    "\n",
    "t = np.linspace(0, 1, 50 * len(T))\n",
    "\n",
    "X_hat = x(t)\n",
    "Y_hat = y(t)\n",
    "Z_hat = z(t)\n",
    "\n",
    "trajectory_scipy = [{\"t\": F[0], \"xyz\": [F[1],F[2],F[3]]} for F in zip(t, X_hat, Y_hat, Z_hat)]\n",
    "\n",
    "json.dump(trajectory_scipy, open(\"trajectory_scipy.json\", \"w\"), indent=4)"
   ]
  }
 ],
 "metadata": {
  "kernelspec": {
   "display_name": "Python 3.10.8 ('py310')",
   "language": "python",
   "name": "python3"
  },
  "language_info": {
   "codemirror_mode": {
    "name": "ipython",
    "version": 3
   },
   "file_extension": ".py",
   "mimetype": "text/x-python",
   "name": "python",
   "nbconvert_exporter": "python",
   "pygments_lexer": "ipython3",
   "version": "3.10.8"
  },
  "orig_nbformat": 4,
  "vscode": {
   "interpreter": {
    "hash": "53d00ba0b92f737b23b3e678e3a3ceb3fe4e948ad1ab95d9c6fdcbb4b4ec65f3"
   }
  }
 },
 "nbformat": 4,
 "nbformat_minor": 2
}
